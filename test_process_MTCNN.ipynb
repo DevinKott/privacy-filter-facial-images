{
 "metadata": {
  "language_info": {
   "codemirror_mode": {
    "name": "ipython",
    "version": 3
   },
   "file_extension": ".py",
   "mimetype": "text/x-python",
   "name": "python",
   "nbconvert_exporter": "python",
   "pygments_lexer": "ipython3",
   "version": "3.8.5-final"
  },
  "orig_nbformat": 2,
  "kernelspec": {
   "name": "Python 3.8.5 64-bit ('cs631': conda)",
   "display_name": "Python 3.8.5 64-bit ('cs631': conda)",
   "metadata": {
    "interpreter": {
     "hash": "43c5661f7c9414ac054921979550d585fba4a8c4e401a769e4b9c14d0c508108"
    }
   }
  }
 },
 "nbformat": 4,
 "nbformat_minor": 2,
 "cells": [
  {
   "cell_type": "code",
   "execution_count": 1,
   "metadata": {},
   "outputs": [],
   "source": [
    "import mtcnn\n",
    "import cv2\n",
    "\n",
    "img = cv2.cvtColor(cv2.imread(\"./test_images/abba.png\"), cv2.COLOR_BGR2RGB)"
   ]
  },
  {
   "cell_type": "code",
   "execution_count": 3,
   "metadata": {},
   "outputs": [
    {
     "output_type": "execute_result",
     "data": {
      "text/plain": [
       "[{'box': [171, 70, 50, 68],\n",
       "  'confidence': 0.9999995231628418,\n",
       "  'keypoints': {'left_eye': (190, 96),\n",
       "   'right_eye': (213, 96),\n",
       "   'nose': (204, 108),\n",
       "   'mouth_left': (188, 120),\n",
       "   'mouth_right': (212, 120)}},\n",
       " {'box': [62, 51, 59, 79],\n",
       "  'confidence': 0.9999926090240479,\n",
       "  'keypoints': {'left_eye': (83, 82),\n",
       "   'right_eye': (109, 86),\n",
       "   'nose': (96, 101),\n",
       "   'mouth_left': (79, 108),\n",
       "   'mouth_right': (105, 112)}},\n",
       " {'box': [284, 74, 56, 75],\n",
       "  'confidence': 0.9994471669197083,\n",
       "  'keypoints': {'left_eye': (297, 103),\n",
       "   'right_eye': (323, 105),\n",
       "   'nose': (308, 121),\n",
       "   'mouth_left': (295, 129),\n",
       "   'mouth_right': (322, 131)}},\n",
       " {'box': [366, 80, 61, 75],\n",
       "  'confidence': 0.9992707371711731,\n",
       "  'keypoints': {'left_eye': (378, 108),\n",
       "   'right_eye': (406, 107),\n",
       "   'nose': (390, 122),\n",
       "   'mouth_left': (380, 133),\n",
       "   'mouth_right': (408, 133)}}]"
      ]
     },
     "metadata": {},
     "execution_count": 3
    }
   ],
   "source": [
    "detector = mtcnn.MTCNN()\n",
    "faces = detector.detect_faces(img)\n",
    "\n",
    "faces"
   ]
  },
  {
   "cell_type": "code",
   "execution_count": 6,
   "metadata": {},
   "outputs": [
    {
     "output_type": "stream",
     "name": "stdout",
     "text": [
      "Found 4 faces!\n"
     ]
    }
   ],
   "source": [
    "print(\"Found\", len(faces), \"faces!\")\n",
    "\n",
    "for face in faces:\n",
    "    box = face['box']\n",
    "    x, y, w, h = box\n",
    "    cv2.rectangle(img, (x, y), (x+w, y+h), (0, 255, 0), 2)"
   ]
  },
  {
   "cell_type": "code",
   "execution_count": 8,
   "metadata": {},
   "outputs": [
    {
     "output_type": "execute_result",
     "data": {
      "text/plain": [
       "-1"
      ]
     },
     "metadata": {},
     "execution_count": 8
    }
   ],
   "source": [
    "cv2.imshow(\"Faces found\", img)\n",
    "cv2.waitKey(0)"
   ]
  },
  {
   "cell_type": "code",
   "execution_count": 18,
   "metadata": {},
   "outputs": [],
   "source": [
    "video_capture = cv2.VideoCapture(0)\n",
    "\n",
    "try:\n",
    "    while True:\n",
    "\n",
    "        ret, frame = video_capture.read()\n",
    "\n",
    "        rbgframe = cv2.cvtColor(frame, cv2.COLOR_BGR2RGB)\n",
    "\n",
    "        faces = detector.detect_faces(rbgframe)\n",
    "\n",
    "        for face in faces:\n",
    "            x, y, w, h = face['box']\n",
    "            cv2.rectangle(frame, (x, y), (x+w, y+h), (0, 255, 0), 2)\n",
    "\n",
    "        cv2.imshow('Video', frame)\n",
    "\n",
    "        if cv2.waitKey(1) & 0xFF == ord('q'):\n",
    "            break\n",
    "except:\n",
    "    pass\n",
    "finally:\n",
    "    video_capture.release()\n",
    "    cv2.destroyAllWindows()"
   ]
  },
  {
   "cell_type": "code",
   "execution_count": 13,
   "metadata": {},
   "outputs": [
    {
     "output_type": "stream",
     "name": "stdout",
     "text": [
      "Found 4 faces!\n"
     ]
    },
    {
     "output_type": "execute_result",
     "data": {
      "text/plain": [
       "-1"
      ]
     },
     "metadata": {},
     "execution_count": 13
    }
   ],
   "source": [
    "image = cv2.imread(\"./test_images/abba.png\")\n",
    "imgrgb = cv2.cvtColor(image, cv2.COLOR_BGR2RGB)\n",
    "\n",
    "faces = detector.detect_faces(imgrgb)\n",
    "\n",
    "print(\"Found\", len(faces), \"faces!\")\n",
    "\n",
    "for face in faces:\n",
    "    x, y, w, h = face['box']\n",
    "    image[y-3:y+h+3, x-3:x+w+3] = cv2.GaussianBlur(image[y-3:y+h+3, x-3:x+w+3], ( 11, 11 ), 5)\n",
    "\n",
    "cv2.imshow(\"Faces found\", image)\n",
    "cv2.waitKey(0)"
   ]
  },
  {
   "cell_type": "code",
   "execution_count": 19,
   "metadata": {},
   "outputs": [],
   "source": [
    "video_capture = cv2.VideoCapture(0)\n",
    "\n",
    "try:\n",
    "    while True:\n",
    "\n",
    "        ret, frame = video_capture.read()\n",
    "\n",
    "        rgbframe = cv2.cvtColor(frame, cv2.COLOR_BGR2RGB)\n",
    "\n",
    "        faces = detector.detect_faces(rgbframe)\n",
    "\n",
    "        for face in faces:\n",
    "            x, y, w, h = face['box']\n",
    "            frame[y-5:y+h+5, x-5:x+w+5] = cv2.GaussianBlur(frame[y-5:y+h+5, x-5:x+w+5], (15, 15), 10)\n",
    "\n",
    "        cv2.imshow('Video', frame)\n",
    "\n",
    "        if cv2.waitKey(1) & 0xFF == ord('q'):\n",
    "            break\n",
    "except:\n",
    "    pass\n",
    "finally:\n",
    "    video_capture.release()\n",
    "    cv2.destroyAllWindows()"
   ]
  },
  {
   "cell_type": "code",
   "execution_count": 15,
   "metadata": {},
   "outputs": [],
   "source": [
    "video_capture.release()\n",
    "cv2.destroyAllWindows()"
   ]
  },
  {
   "cell_type": "code",
   "execution_count": null,
   "metadata": {},
   "outputs": [],
   "source": []
  }
 ]
}