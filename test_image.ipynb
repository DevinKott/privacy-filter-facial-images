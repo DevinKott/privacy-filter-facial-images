{
 "metadata": {
  "language_info": {
   "codemirror_mode": {
    "name": "ipython",
    "version": 3
   },
   "file_extension": ".py",
   "mimetype": "text/x-python",
   "name": "python",
   "nbconvert_exporter": "python",
   "pygments_lexer": "ipython3",
   "version": "3.8.5-final"
  },
  "orig_nbformat": 2,
  "kernelspec": {
   "name": "python3",
   "display_name": "Python 3"
  }
 },
 "nbformat": 4,
 "nbformat_minor": 2,
 "cells": [
  {
   "cell_type": "code",
   "execution_count": 1,
   "metadata": {},
   "outputs": [],
   "source": [
    "# Imports\n",
    "import mtcnn\n",
    "import cv2\n",
    "\n",
    "# Read in test image\n",
    "file_name = \"17--Ceremony/17_Ceremony_Ceremony_17_113.jpg\"\n",
    "image = cv2.imread( \"./WIDER_val/\" + file_name )\n",
    "rgbimg = cv2.cvtColor( image, cv2.COLOR_BGR2RGB )\n",
    "\n",
    "# Read in the weights for the MTCNN detector\n",
    "detector = mtcnn.MTCNN( './data/mtcnn_weights.npy' )"
   ]
  },
  {
   "cell_type": "code",
   "execution_count": 2,
   "metadata": {},
   "outputs": [],
   "source": [
    "# Detect faces in the image\n",
    "faces = detector.detect_faces( rgbimg )"
   ]
  },
  {
   "cell_type": "code",
   "execution_count": 3,
   "metadata": {},
   "outputs": [
    {
     "output_type": "stream",
     "name": "stdout",
     "text": [
      "Found 7 faces!\n"
     ]
    },
    {
     "output_type": "execute_result",
     "data": {
      "text/plain": [
       "-1"
      ]
     },
     "metadata": {},
     "execution_count": 3
    }
   ],
   "source": [
    "print(\"Found\", len(faces), \"faces!\")\n",
    "\n",
    "for face in faces:\n",
    "    x, y, w, h = face['box']\n",
    "    cv2.rectangle(image, (x, y), (x+w, y+h), (0, 255, 0), 2)\n",
    "\n",
    "cv2.imshow(\"Faces found\", image)\n",
    "cv2.waitKey(0)"
   ]
  },
  {
   "cell_type": "code",
   "execution_count": 4,
   "metadata": {},
   "outputs": [
    {
     "output_type": "stream",
     "name": "stdout",
     "text": [
      "17--Ceremony/17_Ceremony_Ceremony_17_113.jpg\n"
     ]
    }
   ],
   "source": [
    "image = cv2.imread( \"./WIDER_val/\" + file_name )\n",
    "\n",
    "print(file_name)"
   ]
  },
  {
   "cell_type": "code",
   "execution_count": 5,
   "metadata": {},
   "outputs": [],
   "source": [
    "def get_boxes_for_file(path, filename):\n",
    "    '''Returns two lists: a list of the names of the image files and a list of the bounding boxes'''\n",
    "    #Open file\n",
    "    f = open(path,'r') \n",
    "    file = f.readlines()\n",
    "    boxes = []\n",
    "    for idx, line in enumerate(file): \n",
    "        #Grab the files with only 1 face\n",
    "        if line[:-1] == filename:\n",
    "            count = 2\n",
    "            while count < int(file[idx+1]):\n",
    "                bb = file[idx+count]\n",
    "\n",
    "                #Convert into array of integer coordinates\n",
    "                num = bb.split(' ')\n",
    "                num = num[:4]\n",
    "                num = [int(i) for i in num]\n",
    "                \n",
    "                #Save into array\n",
    "                boxes.append(num)\n",
    "                count = count+1\n",
    "    return boxes"
   ]
  },
  {
   "cell_type": "code",
   "execution_count": 6,
   "metadata": {},
   "outputs": [
    {
     "output_type": "stream",
     "name": "stdout",
     "text": [
      "Found 11 faces!\n"
     ]
    },
    {
     "output_type": "execute_result",
     "data": {
      "text/plain": [
       "-1"
      ]
     },
     "metadata": {},
     "execution_count": 6
    }
   ],
   "source": [
    "boxes = get_boxes_for_file('wider_face_split\\\\wider_face_val_bbx_gt.txt', file_name)\n",
    "\n",
    "print(\"Found\", len(boxes), \"faces!\")\n",
    "\n",
    "for x, y, w, h in boxes:\n",
    "    cv2.rectangle(image, (x, y), (x+w, y+h), (0, 255, 0), 2)\n",
    "\n",
    "cv2.imshow(\"Faces found\", image)\n",
    "cv2.waitKey(0)"
   ]
  },
  {
   "cell_type": "code",
   "execution_count": null,
   "metadata": {},
   "outputs": [],
   "source": []
  }
 ]
}