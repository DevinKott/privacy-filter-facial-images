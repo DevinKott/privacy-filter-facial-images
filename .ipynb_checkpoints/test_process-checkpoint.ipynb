{
 "cells": [
  {
   "cell_type": "code",
   "execution_count": 1,
   "metadata": {},
   "outputs": [],
   "source": [
    "import os\n",
    "import sys\n",
    "import os.path\n",
    "import cv2\n",
    "\n",
    "# Read in the Haar Cascade Classifier for faces. Filepath is changed if on a linux system\n",
    "casc_path = \".\\haarcascade\\haarcascade_frontalface_default.xml\"\n",
    "if sys.platform == \"linux\":\n",
    "    casc_path = \"{0}/haarcascade/haarcascade_frontalface_default.xml\".format(os.getcwd())\n",
    "\n",
    "# Check to make sure the XML exists\n",
    "if not os.path.isfile(casc_path):\n",
    "    print(\"Could not find {0}.\".format(casc_path))\n",
    "    sys.exit()\n",
    "\n",
    "\n",
    "face_cascade = cv2.CascadeClassifier(casc_path)"
   ]
  },
  {
   "cell_type": "code",
   "execution_count": 2,
   "metadata": {},
   "outputs": [],
   "source": [
    "# Read in a test image as grayscale\n",
    "image = cv2.imread(\"./test_images/abba.png\")\n",
    "gray_img = cv2.cvtColor(image, cv2.COLOR_BGR2GRAY)"
   ]
  },
  {
   "cell_type": "code",
   "execution_count": 5,
   "metadata": {},
   "outputs": [
    {
     "name": "stdout",
     "output_type": "stream",
     "text": [
      "Found 4 faces in image.\n"
     ]
    }
   ],
   "source": [
    "# Collect a list of faces\n",
    "faces = face_cascade.detectMultiScale(\n",
    "    gray_img,\n",
    "    scaleFactor=1.1,\n",
    "    minNeighbors=5,\n",
    "    minSize=(30, 30),\n",
    "    flags = cv2.CASCADE_SCALE_IMAGE\n",
    ")\n",
    "\n",
    "print( \"Found {0} faces in image.\".format( len(faces) ) )"
   ]
  },
  {
   "cell_type": "code",
   "execution_count": 11,
   "metadata": {},
   "outputs": [
    {
     "name": "stdout",
     "output_type": "stream",
     "text": [
      "Blurring 4 faces with kernel (61, 61).\n"
     ]
    },
    {
     "data": {
      "text/plain": [
       "True"
      ]
     },
     "execution_count": 11,
     "metadata": {},
     "output_type": "execute_result"
    }
   ],
   "source": [
    "# Define parameters of blurring\n",
    "kernel = ( 61, 61 )\n",
    "extend = 5\n",
    "\n",
    "print( \"Blurring {0} faces with kernel {1}.\".format( len(faces), kernel ) )\n",
    "\n",
    "# Blur each ROI (region of interest, each face)\n",
    "for x, y, w, h in faces:\n",
    "    image[y - extend:y + h + extend, x - extend:x + w + extend] = cv2.GaussianBlur(\n",
    "        image[y - extend:y + h + extend, x - extend:x + w + extend],\n",
    "        kernel,\n",
    "        cv2.BORDER_DEFAULT\n",
    "    )\n",
    "\n",
    "# Write the new file to the disk\n",
    "cv2.imwrite(\"{0}/output.png\".format( os.getcwd() ), image) "
   ]
  },
  {
   "cell_type": "code",
   "execution_count": null,
   "metadata": {},
   "outputs": [],
   "source": [
    "video_capture = cv2.VideoCapture(0)\n",
    "\n",
    "while True:\n",
    "    ret, frame = video_capture.read()\n",
    "    gray_frame = cv2.cvtColor(frame, cv2.COLOR_BGR2GRAY)\n",
    "\n",
    "    faces = face_cascade.detectMultiScale(\n",
    "        gray_frame,\n",
    "        scaleFactor=1.1,\n",
    "        minNeighbors=5,\n",
    "        minSize=(30,30),\n",
    "        flags=cv2.CASCADE_SCALE_IMAGE\n",
    "    )\n",
    "\n",
    "    for x, y, w, h in faces:\n",
    "        frame[y - extend:y + h + extend, x - extend:x + w + extend] = cv2.GaussianBlur(\n",
    "            [y - extend:y + h + extend, x - extend:x + w + extend],\n",
    "            kernel,\n",
    "            cv2.BORDER_DEFAULT\n",
    "        )\n",
    "\n",
    "    cv2.imshow('Video', frame)\n",
    "\n",
    "    if cv2.waitKey(1) & 0xFF == ord('q'):\n",
    "        break\n",
    "\n",
    "video_capture.release()\n",
    "cv2.destroyAllWindows()"
   ]
  },
  {
   "cell_type": "code",
   "execution_count": null,
   "metadata": {},
   "outputs": [],
   "source": []
  }
 ],
 "metadata": {
  "kernelspec": {
   "display_name": "Python 3",
   "language": "python",
   "name": "python3"
  },
  "language_info": {
   "codemirror_mode": {
    "name": "ipython",
    "version": 3
   },
   "file_extension": ".py",
   "mimetype": "text/x-python",
   "name": "python",
   "nbconvert_exporter": "python",
   "pygments_lexer": "ipython3",
   "version": "3.8.2"
  }
 },
 "nbformat": 4,
 "nbformat_minor": 2
}
